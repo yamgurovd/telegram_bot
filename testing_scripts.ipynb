{
 "cells": [
  {
   "cell_type": "code",
   "id": "initial_id",
   "metadata": {
    "collapsed": true,
    "ExecuteTime": {
     "end_time": "2024-09-12T14:04:33.712842Z",
     "start_time": "2024-09-12T14:04:33.707568Z"
    }
   },
   "source": [
    "\n",
    "from temp_scripts import hello_world\n",
    "\n",
    "hello_world.hello_world()"
   ],
   "outputs": [
    {
     "name": "stdout",
     "output_type": "stream",
     "text": [
      "Hello World!\n"
     ]
    }
   ],
   "execution_count": 4
  },
  {
   "metadata": {
    "ExecuteTime": {
     "end_time": "2024-09-13T14:20:54.470285Z",
     "start_time": "2024-09-13T14:20:54.464557Z"
    }
   },
   "cell_type": "code",
   "source": [
    "# Тестовый скрипт для рандомайзора \n",
    "from src.randomizers import randomizer_text\n",
    "from src.data import dictionary\n",
    "\n",
    "text = randomizer_text.generate_text(size_text=100)\n",
    "\n",
    "print(text)"
   ],
   "id": "84a97855f13136f7",
   "outputs": [
    {
     "name": "stdout",
     "output_type": "stream",
     "text": [
      "Иной исполнять коробка призыв. Поколение применяться степь дьявол манера снимать появление.\n"
     ]
    }
   ],
   "execution_count": 5
  },
  {
   "metadata": {
    "ExecuteTime": {
     "end_time": "2024-09-13T22:19:27.345144Z",
     "start_time": "2024-09-13T22:19:27.341273Z"
    }
   },
   "cell_type": "code",
   "source": [
    "from src.randomizers import randomizer_symbols\n",
    "from src.data import dictionary\n",
    "\n",
    "text = randomizer_symbols.generate_symbols(size_word=100,\n",
    "                                           lst=dictionary.digits + dictionary.special_characters + dictionary.alphabet_lat_low)\n",
    "\n",
    "print(text)"
   ],
   "id": "63842aed207c7559",
   "outputs": [
    {
     "name": "stdout",
     "output_type": "stream",
     "text": [
      "yvj^f)k7^ns07)pt^rj&r@j9j6(6p*zmk28c9q;)7;^(e%1x)mqiza9c(pa92 nae^m6@58t^b2ra$sn;mxvdfu08kxz$g6bbdbu\n"
     ]
    }
   ],
   "execution_count": 4
  },
  {
   "metadata": {
    "ExecuteTime": {
     "end_time": "2024-09-14T10:28:47.957951Z",
     "start_time": "2024-09-14T10:28:47.819206Z"
    }
   },
   "cell_type": "code",
   "source": [
    "# Тестовый запуск метода /sendPhoto\n",
    "import requests\n",
    "import time\n",
    "from src.credentional import BOT_TOKEN, API_URL\n",
    "from src.api import get_updates\n",
    "\n",
    "\n",
    "offset = -2\n",
    "counter = 0\n",
    "chat_id: int\n",
    "\n",
    "offset = -2\n",
    "chat_id: int\n",
    "\n",
    "while True:\n",
    "    updates = get_updates()"
   ],
   "id": "e336ef89afe5081a",
   "outputs": [
    {
     "ename": "TypeError",
     "evalue": "'module' object is not callable",
     "output_type": "error",
     "traceback": [
      "\u001B[0;31m---------------------------------------------------------------------------\u001B[0m",
      "\u001B[0;31mTypeError\u001B[0m                                 Traceback (most recent call last)",
      "Cell \u001B[0;32mIn[1], line 16\u001B[0m\n\u001B[1;32m     13\u001B[0m chat_id: \u001B[38;5;28mint\u001B[39m\n\u001B[1;32m     15\u001B[0m \u001B[38;5;28;01mwhile\u001B[39;00m \u001B[38;5;28;01mTrue\u001B[39;00m:\n\u001B[0;32m---> 16\u001B[0m     updates \u001B[38;5;241m=\u001B[39m \u001B[43mget_updates\u001B[49m\u001B[43m(\u001B[49m\u001B[43m)\u001B[49m\n",
      "\u001B[0;31mTypeError\u001B[0m: 'module' object is not callable"
     ]
    }
   ],
   "execution_count": 1
  },
  {
   "metadata": {
    "ExecuteTime": {
     "start_time": "2024-09-14T21:07:48.504251Z"
    }
   },
   "cell_type": "code",
   "source": [
    "# Тестовый запуск метода /sendMessage\n",
    "import requests\n",
    "import time\n",
    "from src.credentional import BOT_TOKEN, API_URL\n",
    "\n",
    "\n",
    "offset = -2\n",
    "counter = 0\n",
    "chat_id = int\n",
    "\n",
    "while True:\n",
    "\n",
    "    updates = requests.get(f'{API_URL}{BOT_TOKEN}/getUpdates?offset={offset + 1}').json()\n",
    "\n",
    "    if updates['result']:\n",
    "        for result in updates['result']:\n",
    "            print(\"====================== ЛОГИ ===================\")\n",
    "            print(\"Медоl GET/sendMessage\")\n",
    "            print(f\"Время оправки сообщения {time.ctime()}\")\n",
    "\n",
    "            offset = result['update_id']\n",
    "            print(f\"message_id: {offset}\")\n",
    "\n",
    "            chat_id = result['message']['from']['id']\n",
    "            print(f\"chat_id: {chat_id}\")\n",
    "\n",
    "            first_name = result['message']['from']['first_name']\n",
    "            print(f\"first_name: {first_name}\")\n",
    "\n",
    "            last_name = result.get('message').get('from').get('last_name', 'There is no last_name')\n",
    "            print(f\"last_name: {last_name}\")\n",
    "\n",
    "            username = result.get('message').get('from').get('username', 'There is no username')\n",
    "            print(f\"username: {username}\")\n",
    "            \n",
    "            text = result.get('text')\n",
    "            print(f\"text: {text}\")\n",
    "            \n",
    "            text = result.get('date')\n",
    "            print(f\"text: {text}\")\n",
    "\n",
    "            ink = \"═══════❖═══════\"\n",
    "\n",
    "            text = f\"Привет {first_name} {last_name} спасибо, что помогаешь в тестировании бота yamgurovd 😇\"\n",
    "            text_2 = f\"Пока умею только это\"\n",
    "            text_3 = \"Но это не точно 😈 😉 \"\n",
    "\n",
    "            requests.get(f'{API_URL}{BOT_TOKEN}/sendMessage?chat_id={chat_id}&text={ink}')\n",
    "\n",
    "            requests.get(f'{API_URL}{BOT_TOKEN}/sendMessage?chat_id={chat_id}&text={text}')\n",
    "\n",
    "            time.sleep(1)\n",
    "            requests.get(f'{API_URL}{BOT_TOKEN}/sendMessage?chat_id={chat_id}&text={text_2}')\n",
    "\n",
    "            time.sleep(7)\n",
    "            requests.get(f'{API_URL}{BOT_TOKEN}/sendMessage?chat_id={chat_id}&text={text_3}')\n",
    "\n",
    "            requests.get(f'{API_URL}{BOT_TOKEN}/sendMessage?chat_id={chat_id}&text={ink}')\n",
    "\n",
    "            time.sleep(2)\n",
    "            counter += 1\n",
    "\n"
   ],
   "id": "f2d3bd1abedb7eb7",
   "outputs": [
    {
     "name": "stdout",
     "output_type": "stream",
     "text": [
      "====================== ЛОГИ ===================\n",
      "Медоl GET/sendMessage\n",
      "Время оправки сообщения Sun Sep 15 00:07:48 2024\n",
      "message_id: 935424714\n",
      "chat_id: 6325486817\n",
      "first_name: jaga jaga\n",
      "last_name: There is no last_name\n",
      "username: notautorized\n",
      "text: None\n",
      "text: None\n",
      "====================== ЛОГИ ===================\n",
      "Медоl GET/sendMessage\n",
      "Время оправки сообщения Sun Sep 15 00:08:06 2024\n",
      "message_id: 935424715\n",
      "chat_id: 6325486817\n",
      "first_name: jaga jaga\n",
      "last_name: There is no last_name\n",
      "username: notautorized\n",
      "text: None\n",
      "text: None\n"
     ]
    },
    {
     "ename": "KeyError",
     "evalue": "'result'",
     "output_type": "error",
     "traceback": [
      "\u001B[0;31m---------------------------------------------------------------------------\u001B[0m",
      "\u001B[0;31mKeyError\u001B[0m                                  Traceback (most recent call last)",
      "Cell \u001B[0;32mIn[1], line 15\u001B[0m\n\u001B[1;32m     11\u001B[0m \u001B[38;5;28;01mwhile\u001B[39;00m \u001B[38;5;28;01mTrue\u001B[39;00m:\n\u001B[1;32m     13\u001B[0m     updates \u001B[38;5;241m=\u001B[39m requests\u001B[38;5;241m.\u001B[39mget(\u001B[38;5;124mf\u001B[39m\u001B[38;5;124m'\u001B[39m\u001B[38;5;132;01m{\u001B[39;00mAPI_URL\u001B[38;5;132;01m}\u001B[39;00m\u001B[38;5;132;01m{\u001B[39;00mBOT_TOKEN\u001B[38;5;132;01m}\u001B[39;00m\u001B[38;5;124m/getUpdates?offset=\u001B[39m\u001B[38;5;132;01m{\u001B[39;00moffset\u001B[38;5;250m \u001B[39m\u001B[38;5;241m+\u001B[39m\u001B[38;5;250m \u001B[39m\u001B[38;5;241m1\u001B[39m\u001B[38;5;132;01m}\u001B[39;00m\u001B[38;5;124m'\u001B[39m)\u001B[38;5;241m.\u001B[39mjson()\n\u001B[0;32m---> 15\u001B[0m     \u001B[38;5;28;01mif\u001B[39;00m \u001B[43mupdates\u001B[49m\u001B[43m[\u001B[49m\u001B[38;5;124;43m'\u001B[39;49m\u001B[38;5;124;43mresult\u001B[39;49m\u001B[38;5;124;43m'\u001B[39;49m\u001B[43m]\u001B[49m:\n\u001B[1;32m     16\u001B[0m         \u001B[38;5;28;01mfor\u001B[39;00m result \u001B[38;5;129;01min\u001B[39;00m updates[\u001B[38;5;124m'\u001B[39m\u001B[38;5;124mresult\u001B[39m\u001B[38;5;124m'\u001B[39m]:\n\u001B[1;32m     17\u001B[0m             \u001B[38;5;28mprint\u001B[39m(\u001B[38;5;124m\"\u001B[39m\u001B[38;5;124m====================== ЛОГИ ===================\u001B[39m\u001B[38;5;124m\"\u001B[39m)\n",
      "\u001B[0;31mKeyError\u001B[0m: 'result'"
     ]
    }
   ],
   "execution_count": 1
  },
  {
   "metadata": {},
   "cell_type": "code",
   "outputs": [],
   "execution_count": null,
   "source": "",
   "id": "adc2f47153d5233b"
  }
 ],
 "metadata": {
  "kernelspec": {
   "display_name": "Python 3",
   "language": "python",
   "name": "python3"
  },
  "language_info": {
   "codemirror_mode": {
    "name": "ipython",
    "version": 2
   },
   "file_extension": ".py",
   "mimetype": "text/x-python",
   "name": "python",
   "nbconvert_exporter": "python",
   "pygments_lexer": "ipython2",
   "version": "2.7.6"
  }
 },
 "nbformat": 4,
 "nbformat_minor": 5
}
